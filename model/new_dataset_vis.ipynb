{
 "cells": [
  {
   "cell_type": "code",
   "execution_count": null,
   "metadata": {},
   "outputs": [],
   "source": [
    "import os\n",
    "import matplotlib.pyplot as plt\n",
    "import matplotlib.patches as patches\n",
    "from mk_new_dataset import img_path, label_path"
   ]
  },
  {
   "cell_type": "code",
   "execution_count": null,
   "metadata": {},
   "outputs": [],
   "source": [
    "# 사용자로부터 받은 이미지 4장\n",
    "image_list = sorted(\n",
    "    os.listdir(img_path),\n",
    "    key=lambda x: x.split(\".\")[0],\n",
    ")\n",
    "\n",
    "# 배경으로 사용할 이미지 (약 30장)  -> 굳이 정렬 안해도 되긴함\n",
    "anno_list = sorted(\n",
    "    os.listdir(label_path),\n",
    "    key=lambda x: x.split(\".\")[0],\n",
    ")\n",
    "\n",
    "print(image_list)\n",
    "print(anno_list)"
   ]
  },
  {
   "cell_type": "code",
   "execution_count": null,
   "metadata": {},
   "outputs": [],
   "source": [
    "def get_bbox(label_path, i):\n",
    "    file = open(label_path + str(i) + \".txt\", \"r\")\n",
    "    anno = file.readline()\n",
    "\n",
    "    w = float(anno.split()[3])\n",
    "    h = float(anno.split()[4])\n",
    "\n",
    "    xmin = float(anno.split()[1]) - w / 2\n",
    "    ymin = float(anno.split()[2]) - h / 2\n",
    "\n",
    "    return [xmin, ymin, w, h]\n",
    "\n",
    "\n",
    "def plot_image(img_path, i, bbox):\n",
    "    img = Image.open(img_path + str(i) + \".jpg\")  # jpg 배경 있을 시 / png 배경 없을 시\n",
    "\n",
    "    fig, ax = plt.subplots(1)\n",
    "    ax.imshow(img)\n",
    "\n",
    "    xmin, ymin, w, h = bbox\n",
    "    rect = patches.Rectangle((xmin * 640, ymin * 640), w * 640, h * 640, linewidth=2, edgecolor=\"red\", facecolor=\"none\")\n",
    "    ax.add_patch(rect)\n",
    "\n",
    "    plt.show()\n",
    "\n",
    "\n",
    "for i in range(10):  # len(image_list)\n",
    "    bbox = get_bbox(label_path, i)\n",
    "    plot_image(img_path, i, bbox)"
   ]
  }
 ],
 "metadata": {
  "kernelspec": {
   "display_name": "autodata",
   "language": "python",
   "name": "python3"
  },
  "language_info": {
   "codemirror_mode": {
    "name": "ipython",
    "version": 3
   },
   "file_extension": ".py",
   "mimetype": "text/x-python",
   "name": "python",
   "nbconvert_exporter": "python",
   "pygments_lexer": "ipython3",
   "version": "3.10.6"
  },
  "orig_nbformat": 4
 },
 "nbformat": 4,
 "nbformat_minor": 2
}
